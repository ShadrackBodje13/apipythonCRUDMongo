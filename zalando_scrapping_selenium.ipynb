{
 "cells": [
  {
   "cell_type": "code",
   "execution_count": 1,
   "id": "d2f77780",
   "metadata": {},
   "outputs": [],
   "source": [
    "# Librairies\n",
    "import time\n",
    "import pickle \n",
    "from selenium import webdriver \n",
    "from selenium.webdriver.common.keys import Keys\n",
    "import pandas as pd\n",
    "from pprint import pprint\n",
    "import json"
   ]
  },
  {
   "cell_type": "code",
   "execution_count": 2,
   "id": "43c9285c",
   "metadata": {},
   "outputs": [],
   "source": [
    "# Webdriver\n",
    "browser = webdriver.Chrome()\n",
    "time.sleep(2)"
   ]
  },
  {
   "cell_type": "code",
   "execution_count": 3,
   "id": "f16f7bb2",
   "metadata": {},
   "outputs": [],
   "source": [
    "# Site qu'on va utiliser pour le scrapping\n",
    "browser.get('https://www.zalando.fr/')\n",
    "time.sleep(2)"
   ]
  },
  {
   "cell_type": "code",
   "execution_count": 4,
   "id": "a7483241",
   "metadata": {},
   "outputs": [],
   "source": [
    "# Agrandir la fênetre\n",
    "browser.maximize_window() #agrandir la fenetre\n",
    "time.sleep(2)"
   ]
  },
  {
   "cell_type": "code",
   "execution_count": 5,
   "id": "7ebaafd5",
   "metadata": {},
   "outputs": [
    {
     "data": {
      "text/plain": [
       "[{'domain': '.zalando.fr',\n",
       "  'expiry': 1647273703,\n",
       "  'httpOnly': True,\n",
       "  'name': 'bm_sv',\n",
       "  'path': '/',\n",
       "  'secure': False,\n",
       "  'value': '74C5E88AD229637037FEAE79278066D6~q9l3cFlCuyWdhLlDTNh/w5OrFQw9pbLrxRuxZ8pKBwFEUryvNTxAqsPEPbbvczdnugJsO9cRmXxePpkkzp6scqkhs3QZE0FcEpGj7bZ8dxQMtYRQ0Mo7tL4Pjy1f+bl213UtKLxTNLWbq1h7gfmma0MKEmEJ4c1xvCztCsw1i7o='},\n",
       " {'domain': '.zalando.fr',\n",
       "  'expiry': 1647280900,\n",
       "  'httpOnly': False,\n",
       "  'name': 'bm_sz',\n",
       "  'path': '/',\n",
       "  'secure': False,\n",
       "  'value': 'DAC6DC788FC8F8ADB243CB257BE1DDBA~YAAQjQ/dWL+aC2Z/AQAAahm8iA8j2+23PXngBCrzEuM9NlSgkyYv7pml86+US3hi68pInDiLWVa5bNrCd7Kk/4SKQOWdV5P4NmWwa3nKc3CkU/GpCS72JVh4gLJGDtwIRjEohoO0/a812F73sT8glGxdkO+QHbklpzYAMcFSk8DWJGTBFv+cJRDnoNbDj4yIlgsTGov8k+duYDmnXZxtrLlMtk7F/SRArDy0PaPLBFn3yRUDZszd2B7vIpR1OC0YryQIQwR2FbxGAsXXQ6SETJjd6DP/FascVfzM0t1fPGc9re7dovirMaiRtYx73DGDjSe0kbOXa7D75gcl/txj4R0Ky3AMS4COXHplAyrnU6QxG8UOa8vywUxiLtSd3gTzBNtQ8Slq72Iiz1Ag9/AJbQ==~4273714~3355446'},\n",
       " {'domain': '.zalando.fr',\n",
       "  'expiry': 1709474506,\n",
       "  'httpOnly': True,\n",
       "  'name': 'Zalando-Client-Id',\n",
       "  'path': '/',\n",
       "  'secure': True,\n",
       "  'value': '11559a2c-71af-4dfc-bb8f-9ac498bdaaee'},\n",
       " {'domain': '.zalando.fr',\n",
       "  'expiry': 1678802504,\n",
       "  'httpOnly': False,\n",
       "  'name': '_abck',\n",
       "  'path': '/',\n",
       "  'secure': True,\n",
       "  'value': '784388F494CEF92413EF44CFFDB78FA6~-1~YAAQjQ/dWNmaC2Z/AQAANiO8iAc+KeCRv4YGN//Ul4sUAEhWC5YX5Kb2uwK8COQglcFFnEaR/83+Idnu8ZXU/Z3IbTQ4JAH7AgbIeduSICzp5OPzHOdY7vazYQY3KOJoCC+1veCWUBbMCTl0smBaixBVYZgTFMftJb4KS9WXjdWYEsRT0KVVt8dqvLkEK9lGWezOX5pe56OyS/bubKoKYp6mg3TYZjQkSA3DeEBP/UXf84pimFsrlK4qKrOdWxJHXXIF/gYU/qtwKRaR+AIaAzSrOYGuBtebYcWT2kifqBHn+UESbhvkKZueZBk6SIrwR9dRVn2CQffGCpX8XUaUMBttyOKRzQ7jRA7fPXFTkaVXfonH/kIIbDguBUXlPSnnU7lJw5qARrzhyeT09HANGdSgIvkOn+AvUwyGbrgewmMXFsk92aexq2MntivAfzMMM0O16mcAuXqjO56/6vzioubV~-1~||-1||~1647270085'},\n",
       " {'domain': '.www.zalando.fr',\n",
       "  'expiry': 1647270101,\n",
       "  'httpOnly': False,\n",
       "  'name': 'mpulseinject',\n",
       "  'path': '/',\n",
       "  'secure': True,\n",
       "  'value': 'false'},\n",
       " {'domain': '.zalando.fr',\n",
       "  'expiry': 1647270101,\n",
       "  'httpOnly': False,\n",
       "  'name': 'frsx',\n",
       "  'path': '/',\n",
       "  'secure': True,\n",
       "  'value': 'AAAAALj2L3NDtK1ZUolf0zmSojIr-zGaYrsFlR3ObgGwgdAibsUGM4Jb6dDn0JMFxgB46cehGgqaoLBEKw5vTkWL4AggoTu4Wzo6IjimK5OyGky-mP_HJ39gaFSEoq6Ly5ecqECrVYAQD05lG0xKkJw='},\n",
       " {'domain': '.zalando.fr',\n",
       "  'expiry': 1647273701,\n",
       "  'httpOnly': True,\n",
       "  'name': 'ak_bmsc',\n",
       "  'path': '/',\n",
       "  'secure': False,\n",
       "  'value': 'BF7FFB964DCDA526428E7CCBF23B3DFA~000000000000000000000000000000~YAAQjQ/dWOqaC2Z/AQAAMSa8iA9OZjvw6MywmP18KyXX098xCyNOrOtXXS7e5qHNkXeQbS7BuPNNlocke59q/BlQ+0fFzFCEpUQ+c4HWUcZuCXV9tpWG4tQpX63pBFqZ2U1ZVbRUgslLDAvDPq00GX3GoPzXRBArzaoDJoj+3nyiQS/U0aRWPYemMby8cIOjfdvDj71LLhNcZMRisRMdq1JGSQ+40KQtXMUWVH64q8aWWBPvzO7twPqV1IO0GLT/qAMRLJogLX+3s4SJmUFsbQkQTa6L4VOpc/nD7cET8B8fHNHcgaPGnlBs16YB/I5ljF2Bmce3BKy4it+Q1UNhjH2qoqTV1sceZKXLNBIvyrVOP2BsxzK0fWoE1sEd8sNK+UJBzRAgMNJM4LNRjOmiTKleZ8slH6YkWFBC2+HKhC/+jR/5yxMg2zUwpgXfztu97seGnrttIfmtCQ9TalUcCBK3Dij3afqExMqMBbCgIGpKMqqNCIBCuRjfBmVLvrocW/tbV+L886Odoy05sfXEgrDKZwf2hKUSw+mA544G'},\n",
       " {'domain': '.zalando.fr',\n",
       "  'expiry': 1648044101,\n",
       "  'httpOnly': False,\n",
       "  'name': 'fvgs_ml',\n",
       "  'path': '/',\n",
       "  'secure': True,\n",
       "  'value': 'mosaic'}]"
      ]
     },
     "execution_count": 5,
     "metadata": {},
     "output_type": "execute_result"
    }
   ],
   "source": [
    "# get the cookies int the site \n",
    "browser.get_cookies()"
   ]
  },
  {
   "cell_type": "code",
   "execution_count": 6,
   "id": "581e9c44",
   "metadata": {},
   "outputs": [
    {
     "name": "stderr",
     "output_type": "stream",
     "text": [
      "<ipython-input-6-9007b64ae8f5>:2: DeprecationWarning: find_element_by_* commands are deprecated. Please use find_element() instead\n",
      "  stop_cookies = browser.find_element_by_xpath('/html/body/div[12]/div[3]/div/div/div/div/div[2]/div[1]/button[2]')\n"
     ]
    }
   ],
   "source": [
    "# Cookies accept\n",
    "stop_cookies = browser.find_element_by_xpath('/html/body/div[12]/div[3]/div/div/div/div/div[2]/div[1]/button[2]')\n",
    "stop_cookies.click()\n",
    "time.sleep(2) "
   ]
  },
  {
   "cell_type": "code",
   "execution_count": 7,
   "id": "e75ec946",
   "metadata": {},
   "outputs": [
    {
     "name": "stderr",
     "output_type": "stream",
     "text": [
      "<ipython-input-7-4bb8a3f499d7>:2: DeprecationWarning: find_element_by_* commands are deprecated. Please use find_element() instead\n",
      "  homme = browser.find_element_by_xpath('/html/body/div[4]/div/x-wrapper-header/div/div/header/div[2]/div/div/div/div[1]/div/div/div/div[1]/div[1]/nav/ul/li[2]/a')\n"
     ]
    }
   ],
   "source": [
    "# onglet homme \n",
    "homme = browser.find_element_by_xpath('/html/body/div[4]/div/x-wrapper-header/div/div/header/div[2]/div/div/div/div[1]/div/div/div/div[1]/div[1]/nav/ul/li[2]/a')\n",
    "homme.click()\n",
    "time.sleep(2)"
   ]
  },
  {
   "cell_type": "code",
   "execution_count": 8,
   "id": "fbec90d3",
   "metadata": {},
   "outputs": [
    {
     "name": "stderr",
     "output_type": "stream",
     "text": [
      "<ipython-input-8-b29146022a32>:2: DeprecationWarning: find_element_by_* commands are deprecated. Please use find_element() instead\n",
      "  vetement_homme = browser.find_element_by_xpath('/html/body/div[4]/div/x-wrapper-pre-shell/div/div/header/div[2]/div/div/div/div[1]/div/div/div/div[2]/div[2]/nav/ul/li[2]/span/a/span')\n"
     ]
    }
   ],
   "source": [
    "# vetement homme\n",
    "vetement_homme = browser.find_element_by_xpath('/html/body/div[4]/div/x-wrapper-pre-shell/div/div/header/div[2]/div/div/div/div[1]/div/div/div/div[2]/div[2]/nav/ul/li[2]/span/a/span')\n",
    "vetement_homme.click()\n",
    "time.sleep(2)"
   ]
  },
  {
   "cell_type": "code",
   "execution_count": 9,
   "id": "fb7063a4",
   "metadata": {},
   "outputs": [
    {
     "name": "stderr",
     "output_type": "stream",
     "text": [
      "<ipython-input-9-677da0231319>:2: DeprecationWarning: find_element_by_* commands are deprecated. Please use find_element() instead\n",
      "  chemises_homme = browser.find_element_by_xpath('/html/body/div[4]/div/div/div/div[7]/div/div[1]/div/ul/li/ul/li[2]/a/span')\n"
     ]
    }
   ],
   "source": [
    "# chemises \n",
    "chemises_homme = browser.find_element_by_xpath('/html/body/div[4]/div/div/div/div[7]/div/div[1]/div/ul/li/ul/li[2]/a/span')\n",
    "chemises_homme.click()\n",
    "time.sleep(2)"
   ]
  },
  {
   "cell_type": "markdown",
   "id": "fddca518",
   "metadata": {},
   "source": [
    "LES DONNES POUR EN FAIRE UN DATA FRAME\n",
    "- nom de marque\n",
    "- description de la chemise\n",
    "- prix promotionnel\n",
    "- prix sans promo"
   ]
  },
  {
   "cell_type": "code",
   "execution_count": 37,
   "id": "1bd213f7",
   "metadata": {},
   "outputs": [
    {
     "name": "stderr",
     "output_type": "stream",
     "text": [
      "<ipython-input-37-78dd06c3dbfd>:4: DeprecationWarning: find_elements_by_* commands are deprecated. Please use find_elements() instead\n",
      "  for a in browser.find_elements_by_xpath('//*/span[@class=\"u-6V88 ka2E9k uMhVZi FxZV-M Kq1JPK pVrzNP ZkIJC- r9BRio qXofat EKabf7 nBq1-s _2MyPg2\"]')[0:] :\n"
     ]
    },
    {
     "ename": "WebDriverException",
     "evalue": "Message: chrome not reachable\n  (Session info: chrome=99.0.4844.51)\nStacktrace:\nBacktrace:\n\tOrdinal0 [0x00467AC3+2587331]\n\tOrdinal0 [0x003FADD1+2141649]\n\tOrdinal0 [0x002F3A80+1063552]\n\tOrdinal0 [0x002E8222+1016354]\n\tOrdinal0 [0x002E8A58+1018456]\n\tOrdinal0 [0x002EA292+1024658]\n\tOrdinal0 [0x002E3F79+999289]\n\tOrdinal0 [0x002F4EF0+1068784]\n\tOrdinal0 [0x003481D2+1409490]\n\tOrdinal0 [0x003384A6+1344678]\n\tOrdinal0 [0x003153F6+1201142]\n\tOrdinal0 [0x003162E6+1204966]\n\tGetHandleVerifier [0x0060DF22+1680738]\n\tGetHandleVerifier [0x006C0DBC+2413564]\n\tGetHandleVerifier [0x004FD151+563089]\n\tGetHandleVerifier [0x004FBF13+558419]\n\tOrdinal0 [0x0040081E+2164766]\n\tOrdinal0 [0x00405508+2184456]\n\tOrdinal0 [0x00405650+2184784]\n\tOrdinal0 [0x0040F5BC+2225596]\n\tBaseThreadInitThunk [0x768B6359+25]\n\tRtlGetAppContainerNamedObjectPath [0x77768944+228]\n\tRtlGetAppContainerNamedObjectPath [0x77768914+180]\n",
     "output_type": "error",
     "traceback": [
      "\u001b[1;31m---------------------------------------------------------------------------\u001b[0m",
      "\u001b[1;31mWebDriverException\u001b[0m                        Traceback (most recent call last)",
      "\u001b[1;32m<ipython-input-37-78dd06c3dbfd>\u001b[0m in \u001b[0;36m<module>\u001b[1;34m\u001b[0m\n\u001b[0;32m      2\u001b[0m \u001b[0mmarque_chemise_name\u001b[0m \u001b[1;33m=\u001b[0m \u001b[1;33m[\u001b[0m\u001b[1;33m]\u001b[0m\u001b[1;33m\u001b[0m\u001b[1;33m\u001b[0m\u001b[0m\n\u001b[0;32m      3\u001b[0m \u001b[1;31m# marque_xpath = browser.find_element_by_xpath('//*/span[@class=\"u-6V88 ka2E9k uMhVZi FxZV-M Kq1JPK pVrzNP ZkIJC- r9BRio qXofat EKabf7 nBq1-s _2MyPg2\"]')\u001b[0m\u001b[1;33m\u001b[0m\u001b[1;33m\u001b[0m\u001b[1;33m\u001b[0m\u001b[0m\n\u001b[1;32m----> 4\u001b[1;33m \u001b[1;32mfor\u001b[0m \u001b[0ma\u001b[0m \u001b[1;32min\u001b[0m \u001b[0mbrowser\u001b[0m\u001b[1;33m.\u001b[0m\u001b[0mfind_elements_by_xpath\u001b[0m\u001b[1;33m(\u001b[0m\u001b[1;34m'//*/span[@class=\"u-6V88 ka2E9k uMhVZi FxZV-M Kq1JPK pVrzNP ZkIJC- r9BRio qXofat EKabf7 nBq1-s _2MyPg2\"]'\u001b[0m\u001b[1;33m)\u001b[0m\u001b[1;33m[\u001b[0m\u001b[1;36m0\u001b[0m\u001b[1;33m:\u001b[0m\u001b[1;33m]\u001b[0m \u001b[1;33m:\u001b[0m\u001b[1;33m\u001b[0m\u001b[1;33m\u001b[0m\u001b[0m\n\u001b[0m\u001b[0;32m      5\u001b[0m \u001b[1;31m#     marque_chemise_name.append(a)\u001b[0m\u001b[1;33m\u001b[0m\u001b[1;33m\u001b[0m\u001b[1;33m\u001b[0m\u001b[0m\n\u001b[0;32m      6\u001b[0m     \u001b[0mmarque_chemise_name\u001b[0m\u001b[1;33m.\u001b[0m\u001b[0mappend\u001b[0m\u001b[1;33m(\u001b[0m\u001b[0ma\u001b[0m\u001b[1;33m.\u001b[0m\u001b[0mtext\u001b[0m\u001b[1;33m)\u001b[0m\u001b[1;33m\u001b[0m\u001b[1;33m\u001b[0m\u001b[0m\n",
      "\u001b[1;32m~\\anaconda3\\lib\\site-packages\\selenium\\webdriver\\remote\\webdriver.py\u001b[0m in \u001b[0;36mfind_elements_by_xpath\u001b[1;34m(self, xpath)\u001b[0m\n\u001b[0;32m    541\u001b[0m             \u001b[0mstacklevel\u001b[0m\u001b[1;33m=\u001b[0m\u001b[1;36m2\u001b[0m\u001b[1;33m,\u001b[0m\u001b[1;33m\u001b[0m\u001b[1;33m\u001b[0m\u001b[0m\n\u001b[0;32m    542\u001b[0m         )\n\u001b[1;32m--> 543\u001b[1;33m         \u001b[1;32mreturn\u001b[0m \u001b[0mself\u001b[0m\u001b[1;33m.\u001b[0m\u001b[0mfind_elements\u001b[0m\u001b[1;33m(\u001b[0m\u001b[0mby\u001b[0m\u001b[1;33m=\u001b[0m\u001b[0mBy\u001b[0m\u001b[1;33m.\u001b[0m\u001b[0mXPATH\u001b[0m\u001b[1;33m,\u001b[0m \u001b[0mvalue\u001b[0m\u001b[1;33m=\u001b[0m\u001b[0mxpath\u001b[0m\u001b[1;33m)\u001b[0m\u001b[1;33m\u001b[0m\u001b[1;33m\u001b[0m\u001b[0m\n\u001b[0m\u001b[0;32m    544\u001b[0m \u001b[1;33m\u001b[0m\u001b[0m\n\u001b[0;32m    545\u001b[0m     \u001b[1;32mdef\u001b[0m \u001b[0mfind_element_by_link_text\u001b[0m\u001b[1;33m(\u001b[0m\u001b[0mself\u001b[0m\u001b[1;33m,\u001b[0m \u001b[0mlink_text\u001b[0m\u001b[1;33m)\u001b[0m \u001b[1;33m->\u001b[0m \u001b[0mWebElement\u001b[0m\u001b[1;33m:\u001b[0m\u001b[1;33m\u001b[0m\u001b[1;33m\u001b[0m\u001b[0m\n",
      "\u001b[1;32m~\\anaconda3\\lib\\site-packages\\selenium\\webdriver\\remote\\webdriver.py\u001b[0m in \u001b[0;36mfind_elements\u001b[1;34m(self, by, value)\u001b[0m\n\u001b[0;32m   1277\u001b[0m         \u001b[1;31m# Return empty list if driver returns null\u001b[0m\u001b[1;33m\u001b[0m\u001b[1;33m\u001b[0m\u001b[1;33m\u001b[0m\u001b[0m\n\u001b[0;32m   1278\u001b[0m         \u001b[1;31m# See https://github.com/SeleniumHQ/selenium/issues/4555\u001b[0m\u001b[1;33m\u001b[0m\u001b[1;33m\u001b[0m\u001b[1;33m\u001b[0m\u001b[0m\n\u001b[1;32m-> 1279\u001b[1;33m         return self.execute(Command.FIND_ELEMENTS, {\n\u001b[0m\u001b[0;32m   1280\u001b[0m             \u001b[1;34m'using'\u001b[0m\u001b[1;33m:\u001b[0m \u001b[0mby\u001b[0m\u001b[1;33m,\u001b[0m\u001b[1;33m\u001b[0m\u001b[1;33m\u001b[0m\u001b[0m\n\u001b[0;32m   1281\u001b[0m             'value': value})['value'] or []\n",
      "\u001b[1;32m~\\anaconda3\\lib\\site-packages\\selenium\\webdriver\\remote\\webdriver.py\u001b[0m in \u001b[0;36mexecute\u001b[1;34m(self, driver_command, params)\u001b[0m\n\u001b[0;32m    422\u001b[0m         \u001b[0mresponse\u001b[0m \u001b[1;33m=\u001b[0m \u001b[0mself\u001b[0m\u001b[1;33m.\u001b[0m\u001b[0mcommand_executor\u001b[0m\u001b[1;33m.\u001b[0m\u001b[0mexecute\u001b[0m\u001b[1;33m(\u001b[0m\u001b[0mdriver_command\u001b[0m\u001b[1;33m,\u001b[0m \u001b[0mparams\u001b[0m\u001b[1;33m)\u001b[0m\u001b[1;33m\u001b[0m\u001b[1;33m\u001b[0m\u001b[0m\n\u001b[0;32m    423\u001b[0m         \u001b[1;32mif\u001b[0m \u001b[0mresponse\u001b[0m\u001b[1;33m:\u001b[0m\u001b[1;33m\u001b[0m\u001b[1;33m\u001b[0m\u001b[0m\n\u001b[1;32m--> 424\u001b[1;33m             \u001b[0mself\u001b[0m\u001b[1;33m.\u001b[0m\u001b[0merror_handler\u001b[0m\u001b[1;33m.\u001b[0m\u001b[0mcheck_response\u001b[0m\u001b[1;33m(\u001b[0m\u001b[0mresponse\u001b[0m\u001b[1;33m)\u001b[0m\u001b[1;33m\u001b[0m\u001b[1;33m\u001b[0m\u001b[0m\n\u001b[0m\u001b[0;32m    425\u001b[0m             response['value'] = self._unwrap_value(\n\u001b[0;32m    426\u001b[0m                 response.get('value', None))\n",
      "\u001b[1;32m~\\anaconda3\\lib\\site-packages\\selenium\\webdriver\\remote\\errorhandler.py\u001b[0m in \u001b[0;36mcheck_response\u001b[1;34m(self, response)\u001b[0m\n\u001b[0;32m    245\u001b[0m                 \u001b[0malert_text\u001b[0m \u001b[1;33m=\u001b[0m \u001b[0mvalue\u001b[0m\u001b[1;33m[\u001b[0m\u001b[1;34m'alert'\u001b[0m\u001b[1;33m]\u001b[0m\u001b[1;33m.\u001b[0m\u001b[0mget\u001b[0m\u001b[1;33m(\u001b[0m\u001b[1;34m'text'\u001b[0m\u001b[1;33m)\u001b[0m\u001b[1;33m\u001b[0m\u001b[1;33m\u001b[0m\u001b[0m\n\u001b[0;32m    246\u001b[0m             \u001b[1;32mraise\u001b[0m \u001b[0mexception_class\u001b[0m\u001b[1;33m(\u001b[0m\u001b[0mmessage\u001b[0m\u001b[1;33m,\u001b[0m \u001b[0mscreen\u001b[0m\u001b[1;33m,\u001b[0m \u001b[0mstacktrace\u001b[0m\u001b[1;33m,\u001b[0m \u001b[0malert_text\u001b[0m\u001b[1;33m)\u001b[0m  \u001b[1;31m# type: ignore[call-arg]  # mypy is not smart enough here\u001b[0m\u001b[1;33m\u001b[0m\u001b[1;33m\u001b[0m\u001b[0m\n\u001b[1;32m--> 247\u001b[1;33m         \u001b[1;32mraise\u001b[0m \u001b[0mexception_class\u001b[0m\u001b[1;33m(\u001b[0m\u001b[0mmessage\u001b[0m\u001b[1;33m,\u001b[0m \u001b[0mscreen\u001b[0m\u001b[1;33m,\u001b[0m \u001b[0mstacktrace\u001b[0m\u001b[1;33m)\u001b[0m\u001b[1;33m\u001b[0m\u001b[1;33m\u001b[0m\u001b[0m\n\u001b[0m\u001b[0;32m    248\u001b[0m \u001b[1;33m\u001b[0m\u001b[0m\n\u001b[0;32m    249\u001b[0m     \u001b[1;32mdef\u001b[0m \u001b[0m_value_or_default\u001b[0m\u001b[1;33m(\u001b[0m\u001b[0mself\u001b[0m\u001b[1;33m,\u001b[0m \u001b[0mobj\u001b[0m\u001b[1;33m:\u001b[0m \u001b[0mMapping\u001b[0m\u001b[1;33m[\u001b[0m\u001b[0m_KT\u001b[0m\u001b[1;33m,\u001b[0m \u001b[0m_VT\u001b[0m\u001b[1;33m]\u001b[0m\u001b[1;33m,\u001b[0m \u001b[0mkey\u001b[0m\u001b[1;33m:\u001b[0m \u001b[0m_KT\u001b[0m\u001b[1;33m,\u001b[0m \u001b[0mdefault\u001b[0m\u001b[1;33m:\u001b[0m \u001b[0m_VT\u001b[0m\u001b[1;33m)\u001b[0m \u001b[1;33m->\u001b[0m \u001b[0m_VT\u001b[0m\u001b[1;33m:\u001b[0m\u001b[1;33m\u001b[0m\u001b[1;33m\u001b[0m\u001b[0m\n",
      "\u001b[1;31mWebDriverException\u001b[0m: Message: chrome not reachable\n  (Session info: chrome=99.0.4844.51)\nStacktrace:\nBacktrace:\n\tOrdinal0 [0x00467AC3+2587331]\n\tOrdinal0 [0x003FADD1+2141649]\n\tOrdinal0 [0x002F3A80+1063552]\n\tOrdinal0 [0x002E8222+1016354]\n\tOrdinal0 [0x002E8A58+1018456]\n\tOrdinal0 [0x002EA292+1024658]\n\tOrdinal0 [0x002E3F79+999289]\n\tOrdinal0 [0x002F4EF0+1068784]\n\tOrdinal0 [0x003481D2+1409490]\n\tOrdinal0 [0x003384A6+1344678]\n\tOrdinal0 [0x003153F6+1201142]\n\tOrdinal0 [0x003162E6+1204966]\n\tGetHandleVerifier [0x0060DF22+1680738]\n\tGetHandleVerifier [0x006C0DBC+2413564]\n\tGetHandleVerifier [0x004FD151+563089]\n\tGetHandleVerifier [0x004FBF13+558419]\n\tOrdinal0 [0x0040081E+2164766]\n\tOrdinal0 [0x00405508+2184456]\n\tOrdinal0 [0x00405650+2184784]\n\tOrdinal0 [0x0040F5BC+2225596]\n\tBaseThreadInitThunk [0x768B6359+25]\n\tRtlGetAppContainerNamedObjectPath [0x77768944+228]\n\tRtlGetAppContainerNamedObjectPath [0x77768914+180]\n"
     ]
    }
   ],
   "source": [
    "# données marque \n",
    "marque_chemise_name = []\n",
    "# marque_xpath = browser.find_element_by_xpath('//*/span[@class=\"u-6V88 ka2E9k uMhVZi FxZV-M Kq1JPK pVrzNP ZkIJC- r9BRio qXofat EKabf7 nBq1-s _2MyPg2\"]')\n",
    "for a in browser.find_elements_by_xpath('//*/span[@class=\"u-6V88 ka2E9k uMhVZi FxZV-M Kq1JPK pVrzNP ZkIJC- r9BRio qXofat EKabf7 nBq1-s _2MyPg2\"]')[0:] : \n",
    "#     marque_chemise_name.append(a)\n",
    "    marque_chemise_name.append(a.text)\n",
    "\n",
    "marque_chemise_name\n",
    "\n"
   ]
  },
  {
   "cell_type": "code",
   "execution_count": 11,
   "id": "272cb804",
   "metadata": {},
   "outputs": [
    {
     "name": "stderr",
     "output_type": "stream",
     "text": [
      "<ipython-input-11-46f6443dd158>:5: DeprecationWarning: find_elements_by_* commands are deprecated. Please use find_elements() instead\n",
      "  for a in browser.find_elements_by_xpath('//*/div[@class=\"_0xLoFW u9KIT8 _7ckuOK\"]'):\n"
     ]
    },
    {
     "data": {
      "text/plain": [
       "['55,95 €\\n69,95 €',\n",
       " '59,45 €\\n69,95 €',\n",
       " '29,99 €',\n",
       " '59,45 €\\n69,95 €',\n",
       " '26,99 €\\n29,99 €',\n",
       " '21,39 €\\n59,99 €',\n",
       " '22,49 €\\n24,99 €',\n",
       " 'à partir de 62,95 €\\n69,95 €',\n",
       " '31,99 €\\n39,99 €',\n",
       " '22,49 €\\n24,99 €',\n",
       " '13,95 €\\n19,95 €',\n",
       " '21,29 €\\n24,99 €',\n",
       " '35,99 €',\n",
       " '31,99 €\\n39,99 €',\n",
       " '29,99 €',\n",
       " '139,95 €',\n",
       " 'à partir de 27,99 €\\n39,99 €',\n",
       " '22,49 €\\n24,99 €',\n",
       " '28,09 €\\n34,99 €',\n",
       " '39,99 €',\n",
       " '79,95 €',\n",
       " 'à partir de 22,49 €\\n24,99 €',\n",
       " '22,99 €',\n",
       " '19,95 €',\n",
       " '39,95 €',\n",
       " '25,99 €',\n",
       " '27,99 €\\n39,99 €',\n",
       " 'à partir de 21,99 €',\n",
       " '29,99 €',\n",
       " 'à partir de 31,99 €\\n39,99 €',\n",
       " '39,95 €',\n",
       " 'à partir de 21,99 €',\n",
       " '11,99 €\\n39,99 €',\n",
       " '29,99 €',\n",
       " '19,90 €\\n29,90 €',\n",
       " '29,99 €',\n",
       " '21,09 €\\n29,99 €',\n",
       " '109,95 €',\n",
       " '26,99 €\\n29,99 €',\n",
       " '69,95 €',\n",
       " '17,59 €\\n24,99 €',\n",
       " '35,99 €',\n",
       " '24,09 €\\n29,99 €',\n",
       " '24,99 €',\n",
       " '19,99 €',\n",
       " '22,99 €',\n",
       " '24,09 €\\n29,99 €',\n",
       " '20,79 €\\n25,99 €',\n",
       " '19,90 €\\n29,90 €',\n",
       " '27,99 €\\n39,99 €',\n",
       " '22,99 €',\n",
       " '38,94 €\\n59,90 €',\n",
       " '42,95 €\\n69,95 €',\n",
       " '52,45 €\\n69,95 €',\n",
       " '119,95 €',\n",
       " '17,59 €\\n24,99 €',\n",
       " '39,99 €',\n",
       " '19,99 €',\n",
       " 'à partir de 69,95 €\\n99,95 €',\n",
       " '20,09 €\\n24,99 €',\n",
       " '49,95 €',\n",
       " '31,49 €\\n34,99 €',\n",
       " '19,99 €',\n",
       " '28,09 €\\n34,99 €',\n",
       " '24,09 €\\n29,99 €',\n",
       " '19,99 €',\n",
       " '20,09 €\\n24,99 €',\n",
       " '48,95 €',\n",
       " 'à partir de 56,95 €\\n79,99 €',\n",
       " '99,95 €',\n",
       " '20,09 €\\n24,99 €',\n",
       " 'à partir de 109,00 €',\n",
       " '19,25 €\\n34,99 €',\n",
       " '59,95 €',\n",
       " '29,95 €\\n39,95 €',\n",
       " '29,99 €',\n",
       " '39,99 €',\n",
       " '24,99 €',\n",
       " '17,59 €\\n24,99 €',\n",
       " '49,95 €\\n79,95 €',\n",
       " '24,99 €',\n",
       " '79,95 €',\n",
       " '49,99 €',\n",
       " '33,99 €\\n39,99 €']"
      ]
     },
     "execution_count": 11,
     "metadata": {},
     "output_type": "execute_result"
    }
   ],
   "source": [
    "# données marque \n",
    "price_value = []\n",
    "# marque_xpath = browser.find_element_by_xpath('//*/span[@class=\"u-6V88 ka2E9k uMhVZi FxZV-M Kq1JPK pVrzNP ZkIJC- r9BRio qXofat EKabf7 nBq1-s _2MyPg2\"]')\n",
    "# for a in browser.find_elements_by_xpath('//*/span[@class=\"u-6V88 ka2E9k uMhVZi FxZV-M _6yVObe pVrzNP cMfkVL\"]')[0:]: \n",
    "for a in browser.find_elements_by_xpath('//*/div[@class=\"_0xLoFW u9KIT8 _7ckuOK\"]'): \n",
    "#     marque_chemise_name.append(a)\n",
    "    price_value.append(a.text)\n",
    "\n",
    "\n",
    "                  \n",
    "# price1\n",
    "price_value\n",
    "# split les price value de sorte à ce que si mot pares € alors \n",
    "\n"
   ]
  },
  {
   "cell_type": "code",
   "execution_count": 12,
   "id": "9f4e9910",
   "metadata": {},
   "outputs": [
    {
     "data": {
      "text/plain": [
       "[['55,95 ', '69,95'],\n",
       " ['59,45 ', '69,95'],\n",
       " ['29,99'],\n",
       " ['59,45 ', '69,95'],\n",
       " ['26,99 ', '29,99'],\n",
       " ['21,39 ', '59,99'],\n",
       " ['22,49 ', '24,99'],\n",
       " ['62,95 ', '69,95'],\n",
       " ['31,99 ', '39,99'],\n",
       " ['22,49 ', '24,99'],\n",
       " ['13,95 ', '19,95'],\n",
       " ['21,29 ', '24,99'],\n",
       " ['35,99'],\n",
       " ['31,99 ', '39,99'],\n",
       " ['29,99'],\n",
       " ['139,95'],\n",
       " ['27,99 ', '39,99'],\n",
       " ['22,49 ', '24,99'],\n",
       " ['28,09 ', '34,99'],\n",
       " ['39,99'],\n",
       " ['79,95'],\n",
       " ['22,49 ', '24,99'],\n",
       " ['22,99'],\n",
       " ['19,95'],\n",
       " ['39,95'],\n",
       " ['25,99'],\n",
       " ['27,99 ', '39,99'],\n",
       " ['21,99'],\n",
       " ['29,99'],\n",
       " ['31,99 ', '39,99'],\n",
       " ['39,95'],\n",
       " ['21,99'],\n",
       " ['11,99 ', '39,99'],\n",
       " ['29,99'],\n",
       " ['19,90 ', '29,90'],\n",
       " ['29,99'],\n",
       " ['21,09 ', '29,99'],\n",
       " ['109,95'],\n",
       " ['26,99 ', '29,99'],\n",
       " ['69,95'],\n",
       " ['17,59 ', '24,99'],\n",
       " ['35,99'],\n",
       " ['24,09 ', '29,99'],\n",
       " ['24,99'],\n",
       " ['19,99'],\n",
       " ['22,99'],\n",
       " ['24,09 ', '29,99'],\n",
       " ['20,79 ', '25,99'],\n",
       " ['19,90 ', '29,90'],\n",
       " ['27,99 ', '39,99'],\n",
       " ['22,99'],\n",
       " ['38,94 ', '59,90'],\n",
       " ['42,95 ', '69,95'],\n",
       " ['52,45 ', '69,95'],\n",
       " ['119,95'],\n",
       " ['17,59 ', '24,99'],\n",
       " ['39,99'],\n",
       " ['19,99'],\n",
       " ['69,95 ', '99,95'],\n",
       " ['20,09 ', '24,99'],\n",
       " ['49,95'],\n",
       " ['31,49 ', '34,99'],\n",
       " ['19,99'],\n",
       " ['28,09 ', '34,99'],\n",
       " ['24,09 ', '29,99'],\n",
       " ['19,99'],\n",
       " ['20,09 ', '24,99'],\n",
       " ['48,95'],\n",
       " ['56,95 ', '79,99'],\n",
       " ['99,95'],\n",
       " ['20,09 ', '24,99'],\n",
       " ['109,00'],\n",
       " ['19,25 ', '34,99'],\n",
       " ['59,95'],\n",
       " ['29,95 ', '39,95'],\n",
       " ['29,99'],\n",
       " ['39,99'],\n",
       " ['24,99'],\n",
       " ['17,59 ', '24,99'],\n",
       " ['49,95 ', '79,95'],\n",
       " ['24,99'],\n",
       " ['79,95'],\n",
       " ['49,99'],\n",
       " ['33,99 ', '39,99']]"
      ]
     },
     "execution_count": 12,
     "metadata": {},
     "output_type": "execute_result"
    }
   ],
   "source": [
    "[x.replace(\"à partir de\",\"\").replace(\"€\",\"\").strip().split(\"\\n\") for x in price_value]"
   ]
  },
  {
   "cell_type": "code",
   "execution_count": 13,
   "id": "b8ef1411",
   "metadata": {},
   "outputs": [
    {
     "data": {
      "text/plain": [
       "[]"
      ]
     },
     "execution_count": 13,
     "metadata": {},
     "output_type": "execute_result"
    }
   ],
   "source": [
    "tableau = [x.replace(\"à partir de\",\"\").replace(\"€\",\"\").strip().split(\"\\n\") for x in price_value]\n",
    "new_prix = []\n",
    "old_price = []\n",
    "for compteur in range(len(tableau)): \n",
    "    new_prix.append(tableau[compteur][0])\n",
    "    \n",
    "    \n",
    "# for compteur in range(len(tableau)): \n",
    "#     old_price.append(tableau[compteur][1])\n",
    "#     if tableau[compteur]==None:\n",
    "#         old_price.append(0)\n",
    "    \n",
    "# new_prix\n",
    "old_price"
   ]
  },
  {
   "cell_type": "code",
   "execution_count": 14,
   "id": "55270e4d",
   "metadata": {},
   "outputs": [
    {
     "name": "stderr",
     "output_type": "stream",
     "text": [
      "<ipython-input-14-74a6de9b73ba>:4: DeprecationWarning: find_elements_by_* commands are deprecated. Please use find_elements() instead\n",
      "  li = browser.find_elements_by_tag_name('article div a header div h3')#.text\n"
     ]
    },
    {
     "data": {
      "text/plain": [
       "['ORIGINAL STRETCH - Chemise - lavender lustre',\n",
       " 'ORIGINAL STRETCH - Chemise - black',\n",
       " 'Chemise - original',\n",
       " 'ORIGINAL STRETCH - Chemise - black iris',\n",
       " 'Chemise classique - white',\n",
       " 'Chemise - blau',\n",
       " 'JJEJACK SLIM FIT - Chemise - black',\n",
       " 'ORIGINAL STRETCH - Chemise - classic white',\n",
       " '2 PACK - Chemise classique - white/light blue',\n",
       " 'JJEJACK SLIM FIT - Chemise - total eclipse',\n",
       " 'Chemise - white black',\n",
       " 'JJEGINGHAM - Chemise - brick red',\n",
       " 'Chemise - white',\n",
       " 'SLHSLIMNEW MARK SHIRT - Chemise classique - bright white',\n",
       " 'Chemise - black iris blue',\n",
       " 'CLASSIC FIT OXFORD FUN SHIRT - Chemise - colorful',\n",
       " 'Chemise classique - navy blazer',\n",
       " 'Chemise - blue',\n",
       " 'Chemise - dark blue',\n",
       " 'Chemise - beige',\n",
       " 'BARSTOW WESTERN STANDARD - Chemise - red cast stone',\n",
       " 'JJEGINGHAM - Chemise - port royale',\n",
       " 'Chemise - dark blue',\n",
       " 'Chemise - black/multi',\n",
       " 'JACKSON JACKET - Chemise - light blue',\n",
       " 'ZODIAC - Chemise - green',\n",
       " 'Chemise classique - black',\n",
       " 'ONSALVARO OXFORD - Chemise - cashmere blue',\n",
       " 'Chemise classique - dark blue',\n",
       " 'Chemise classique - white',\n",
       " 'JACKSON JACKET - Chemise - black/grey',\n",
       " 'ONSALVARO OXFORD - Chemise - white',\n",
       " 'SLHSLIMBROOKLYN - Chemise classique - winetasting',\n",
       " 'LONG SLEEVE WITH BAROQUE PRINT - Chemise - green',\n",
       " 'SLIM FIT - Chemise - brown',\n",
       " 'Chemise - black/white',\n",
       " 'ALLOVER PRINTED STRETCH - Chemise - blue',\n",
       " 'SLIM FIT STRETCH POPLIN SHIRT - Chemise - white',\n",
       " 'Chemise classique - red',\n",
       " 'JENNO - Chemise - open white',\n",
       " 'JORBEST SOLID - Chemise - forest night',\n",
       " 'SHORT SLEEVE WITH ZIP - Chemise - black',\n",
       " 'SLHSLIMBROOKLYN - Chemise classique - navy blazer',\n",
       " 'Chemise - denim blue',\n",
       " 'SHORT SLEEVE - Chemise - royal blue',\n",
       " 'Chemise - off-white',\n",
       " 'SLHSLIMBROOKLYN - Chemise classique - bright white',\n",
       " 'Chemise - grey',\n",
       " 'SLIM FIT - Chemise - blue',\n",
       " 'SLHSLIMNEW MARK SHIRT - Chemise classique - sky blue',\n",
       " 'UNISEX - Chemisier - dark blue/white',\n",
       " 'ARMIN - Chemise - dark sapphire stripe',\n",
       " 'Chemise - white-black-red',\n",
       " 'JACKSON WORKER - Chemise - meteorite',\n",
       " 'SLIM FIT STRETCH POPLIN SHIRT - Chemise - blue/white check',\n",
       " 'JJOXFORD BAND - Chemise - cashmere blue',\n",
       " '2 PACK - Chemise - oliv/black',\n",
       " 'Chemise classique - black',\n",
       " 'Chemise - blue',\n",
       " 'Chemise - dark gray',\n",
       " 'AUS REINEM - Chemise - dark blue',\n",
       " 'Chemise - green / blue',\n",
       " 'Chemise - dark blue',\n",
       " 'Chemise - light blue',\n",
       " 'Chemise classique - dark grey',\n",
       " 'Chemise classique - white',\n",
       " 'JJOXFORD BAND - Chemise - white',\n",
       " 'BIG SUNSET POCKET - Chemise - surf the web',\n",
       " 'BUSINESS KENT - Chemise classique - weiss',\n",
       " 'ELLINO - Chemise - black',\n",
       " 'JORBEST CHECK - Chemise - navy blazer',\n",
       " 'SLIM FIT OXFORD SHIRT - Chemise - blue',\n",
       " 'LOGAN - Chemise - blue',\n",
       " 'FORM - Chemise - black',\n",
       " 'ARTHUR SMALL FLOWER - Chemise - navy blazer',\n",
       " 'Chemise - white',\n",
       " 'SLHSLIMNEW MARK SHIRT - Chemise classique - navy blazer',\n",
       " 'JORBEST SOLID - Chemise - black',\n",
       " 'JORBEST CHECK - Chemise - black',\n",
       " 'Chemise - white',\n",
       " 'FESTIVE AOP - Chemise - black',\n",
       " 'BARSTOW WESTERN STANDARD - Chemise - black washed',\n",
       " 'JJESUMMER BAND - Chemise - black',\n",
       " 'Chemise - black']"
      ]
     },
     "execution_count": 14,
     "metadata": {},
     "output_type": "execute_result"
    }
   ],
   "source": [
    "# description de la chemise \n",
    "# diviser le xpath de la sorte, prends moi la baslise : article où on a une div qui possede un a et un a qui possede un header ou encore on trouvre une div qui possede un h3\n",
    "marque_chemise_description =[]\n",
    "li = browser.find_elements_by_tag_name('article div a header div h3')#.text\n",
    "for x in li:\n",
    "#     print(x.text)\n",
    "    marque_chemise_description.append(x.text)\n",
    "\n",
    "marque_chemise_description"
   ]
  },
  {
   "cell_type": "code",
   "execution_count": 15,
   "id": "c895fe73",
   "metadata": {},
   "outputs": [
    {
     "name": "stdout",
     "output_type": "stream",
     "text": [
      "taille des description chemise\n"
     ]
    },
    {
     "data": {
      "text/plain": [
       "84"
      ]
     },
     "execution_count": 15,
     "metadata": {},
     "output_type": "execute_result"
    }
   ],
   "source": [
    "print(\"taille des description chemise\")\n",
    "len(marque_chemise_description)"
   ]
  },
  {
   "cell_type": "code",
   "execution_count": 16,
   "id": "88f6f5b3",
   "metadata": {},
   "outputs": [
    {
     "name": "stdout",
     "output_type": "stream",
     "text": [
      "Taille des marques de chemises\n"
     ]
    },
    {
     "data": {
      "text/plain": [
       "0"
      ]
     },
     "execution_count": 16,
     "metadata": {},
     "output_type": "execute_result"
    }
   ],
   "source": [
    "print(\"Taille des marques de chemises\")\n",
    "len(marque_chemise_name)"
   ]
  },
  {
   "cell_type": "code",
   "execution_count": 17,
   "id": "e461d596",
   "metadata": {},
   "outputs": [
    {
     "name": "stdout",
     "output_type": "stream",
     "text": [
      "Taille des new price\n"
     ]
    },
    {
     "data": {
      "text/plain": [
       "84"
      ]
     },
     "execution_count": 17,
     "metadata": {},
     "output_type": "execute_result"
    }
   ],
   "source": [
    "print(\"Taille des new price\")\n",
    "len(new_prix)"
   ]
  },
  {
   "cell_type": "code",
   "execution_count": 18,
   "id": "5081a870",
   "metadata": {},
   "outputs": [
    {
     "data": {
      "text/plain": [
       "84"
      ]
     },
     "execution_count": 18,
     "metadata": {},
     "output_type": "execute_result"
    }
   ],
   "source": [
    "len(new_prix)"
   ]
  },
  {
   "cell_type": "code",
   "execution_count": null,
   "id": "a103915a",
   "metadata": {},
   "outputs": [],
   "source": []
  },
  {
   "cell_type": "code",
   "execution_count": null,
   "id": "1570f83e",
   "metadata": {},
   "outputs": [],
   "source": []
  },
  {
   "cell_type": "code",
   "execution_count": 19,
   "id": "48ec5387",
   "metadata": {},
   "outputs": [],
   "source": [
    "# creation d'un dictionnaire \n",
    "dictionnaire = {\"nom_chemise\":marque_chemise_name, \"description\":marque_chemise_description, \"old-price\":new_prix}"
   ]
  },
  {
   "cell_type": "code",
   "execution_count": 20,
   "id": "6813f355",
   "metadata": {},
   "outputs": [
    {
     "ename": "ValueError",
     "evalue": "arrays must all be same length",
     "output_type": "error",
     "traceback": [
      "\u001b[1;31m---------------------------------------------------------------------------\u001b[0m",
      "\u001b[1;31mValueError\u001b[0m                                Traceback (most recent call last)",
      "\u001b[1;32m<ipython-input-20-cd9d9428ad00>\u001b[0m in \u001b[0;36m<module>\u001b[1;34m\u001b[0m\n\u001b[1;32m----> 1\u001b[1;33m \u001b[0mdataframe\u001b[0m \u001b[1;33m=\u001b[0m \u001b[0mpd\u001b[0m\u001b[1;33m.\u001b[0m\u001b[0mDataFrame\u001b[0m\u001b[1;33m.\u001b[0m\u001b[0mfrom_dict\u001b[0m\u001b[1;33m(\u001b[0m\u001b[0mdictionnaire\u001b[0m\u001b[1;33m)\u001b[0m\u001b[1;33m\u001b[0m\u001b[1;33m\u001b[0m\u001b[0m\n\u001b[0m",
      "\u001b[1;32m~\\anaconda3\\lib\\site-packages\\pandas\\core\\frame.py\u001b[0m in \u001b[0;36mfrom_dict\u001b[1;34m(cls, data, orient, dtype, columns)\u001b[0m\n\u001b[0;32m   1371\u001b[0m             \u001b[1;32mraise\u001b[0m \u001b[0mValueError\u001b[0m\u001b[1;33m(\u001b[0m\u001b[1;34m\"only recognize index or columns for orient\"\u001b[0m\u001b[1;33m)\u001b[0m\u001b[1;33m\u001b[0m\u001b[1;33m\u001b[0m\u001b[0m\n\u001b[0;32m   1372\u001b[0m \u001b[1;33m\u001b[0m\u001b[0m\n\u001b[1;32m-> 1373\u001b[1;33m         \u001b[1;32mreturn\u001b[0m \u001b[0mcls\u001b[0m\u001b[1;33m(\u001b[0m\u001b[0mdata\u001b[0m\u001b[1;33m,\u001b[0m \u001b[0mindex\u001b[0m\u001b[1;33m=\u001b[0m\u001b[0mindex\u001b[0m\u001b[1;33m,\u001b[0m \u001b[0mcolumns\u001b[0m\u001b[1;33m=\u001b[0m\u001b[0mcolumns\u001b[0m\u001b[1;33m,\u001b[0m \u001b[0mdtype\u001b[0m\u001b[1;33m=\u001b[0m\u001b[0mdtype\u001b[0m\u001b[1;33m)\u001b[0m\u001b[1;33m\u001b[0m\u001b[1;33m\u001b[0m\u001b[0m\n\u001b[0m\u001b[0;32m   1374\u001b[0m \u001b[1;33m\u001b[0m\u001b[0m\n\u001b[0;32m   1375\u001b[0m     def to_numpy(\n",
      "\u001b[1;32m~\\anaconda3\\lib\\site-packages\\pandas\\core\\frame.py\u001b[0m in \u001b[0;36m__init__\u001b[1;34m(self, data, index, columns, dtype, copy)\u001b[0m\n\u001b[0;32m    527\u001b[0m \u001b[1;33m\u001b[0m\u001b[0m\n\u001b[0;32m    528\u001b[0m         \u001b[1;32melif\u001b[0m \u001b[0misinstance\u001b[0m\u001b[1;33m(\u001b[0m\u001b[0mdata\u001b[0m\u001b[1;33m,\u001b[0m \u001b[0mdict\u001b[0m\u001b[1;33m)\u001b[0m\u001b[1;33m:\u001b[0m\u001b[1;33m\u001b[0m\u001b[1;33m\u001b[0m\u001b[0m\n\u001b[1;32m--> 529\u001b[1;33m             \u001b[0mmgr\u001b[0m \u001b[1;33m=\u001b[0m \u001b[0minit_dict\u001b[0m\u001b[1;33m(\u001b[0m\u001b[0mdata\u001b[0m\u001b[1;33m,\u001b[0m \u001b[0mindex\u001b[0m\u001b[1;33m,\u001b[0m \u001b[0mcolumns\u001b[0m\u001b[1;33m,\u001b[0m \u001b[0mdtype\u001b[0m\u001b[1;33m=\u001b[0m\u001b[0mdtype\u001b[0m\u001b[1;33m)\u001b[0m\u001b[1;33m\u001b[0m\u001b[1;33m\u001b[0m\u001b[0m\n\u001b[0m\u001b[0;32m    530\u001b[0m         \u001b[1;32melif\u001b[0m \u001b[0misinstance\u001b[0m\u001b[1;33m(\u001b[0m\u001b[0mdata\u001b[0m\u001b[1;33m,\u001b[0m \u001b[0mma\u001b[0m\u001b[1;33m.\u001b[0m\u001b[0mMaskedArray\u001b[0m\u001b[1;33m)\u001b[0m\u001b[1;33m:\u001b[0m\u001b[1;33m\u001b[0m\u001b[1;33m\u001b[0m\u001b[0m\n\u001b[0;32m    531\u001b[0m             \u001b[1;32mimport\u001b[0m \u001b[0mnumpy\u001b[0m\u001b[1;33m.\u001b[0m\u001b[0mma\u001b[0m\u001b[1;33m.\u001b[0m\u001b[0mmrecords\u001b[0m \u001b[1;32mas\u001b[0m \u001b[0mmrecords\u001b[0m\u001b[1;33m\u001b[0m\u001b[1;33m\u001b[0m\u001b[0m\n",
      "\u001b[1;32m~\\anaconda3\\lib\\site-packages\\pandas\\core\\internals\\construction.py\u001b[0m in \u001b[0;36minit_dict\u001b[1;34m(data, index, columns, dtype)\u001b[0m\n\u001b[0;32m    285\u001b[0m             \u001b[0marr\u001b[0m \u001b[1;32mif\u001b[0m \u001b[1;32mnot\u001b[0m \u001b[0mis_datetime64tz_dtype\u001b[0m\u001b[1;33m(\u001b[0m\u001b[0marr\u001b[0m\u001b[1;33m)\u001b[0m \u001b[1;32melse\u001b[0m \u001b[0marr\u001b[0m\u001b[1;33m.\u001b[0m\u001b[0mcopy\u001b[0m\u001b[1;33m(\u001b[0m\u001b[1;33m)\u001b[0m \u001b[1;32mfor\u001b[0m \u001b[0marr\u001b[0m \u001b[1;32min\u001b[0m \u001b[0marrays\u001b[0m\u001b[1;33m\u001b[0m\u001b[1;33m\u001b[0m\u001b[0m\n\u001b[0;32m    286\u001b[0m         ]\n\u001b[1;32m--> 287\u001b[1;33m     \u001b[1;32mreturn\u001b[0m \u001b[0marrays_to_mgr\u001b[0m\u001b[1;33m(\u001b[0m\u001b[0marrays\u001b[0m\u001b[1;33m,\u001b[0m \u001b[0mdata_names\u001b[0m\u001b[1;33m,\u001b[0m \u001b[0mindex\u001b[0m\u001b[1;33m,\u001b[0m \u001b[0mcolumns\u001b[0m\u001b[1;33m,\u001b[0m \u001b[0mdtype\u001b[0m\u001b[1;33m=\u001b[0m\u001b[0mdtype\u001b[0m\u001b[1;33m)\u001b[0m\u001b[1;33m\u001b[0m\u001b[1;33m\u001b[0m\u001b[0m\n\u001b[0m\u001b[0;32m    288\u001b[0m \u001b[1;33m\u001b[0m\u001b[0m\n\u001b[0;32m    289\u001b[0m \u001b[1;33m\u001b[0m\u001b[0m\n",
      "\u001b[1;32m~\\anaconda3\\lib\\site-packages\\pandas\\core\\internals\\construction.py\u001b[0m in \u001b[0;36marrays_to_mgr\u001b[1;34m(arrays, arr_names, index, columns, dtype, verify_integrity)\u001b[0m\n\u001b[0;32m     78\u001b[0m         \u001b[1;31m# figure out the index, if necessary\u001b[0m\u001b[1;33m\u001b[0m\u001b[1;33m\u001b[0m\u001b[1;33m\u001b[0m\u001b[0m\n\u001b[0;32m     79\u001b[0m         \u001b[1;32mif\u001b[0m \u001b[0mindex\u001b[0m \u001b[1;32mis\u001b[0m \u001b[1;32mNone\u001b[0m\u001b[1;33m:\u001b[0m\u001b[1;33m\u001b[0m\u001b[1;33m\u001b[0m\u001b[0m\n\u001b[1;32m---> 80\u001b[1;33m             \u001b[0mindex\u001b[0m \u001b[1;33m=\u001b[0m \u001b[0mextract_index\u001b[0m\u001b[1;33m(\u001b[0m\u001b[0marrays\u001b[0m\u001b[1;33m)\u001b[0m\u001b[1;33m\u001b[0m\u001b[1;33m\u001b[0m\u001b[0m\n\u001b[0m\u001b[0;32m     81\u001b[0m         \u001b[1;32melse\u001b[0m\u001b[1;33m:\u001b[0m\u001b[1;33m\u001b[0m\u001b[1;33m\u001b[0m\u001b[0m\n\u001b[0;32m     82\u001b[0m             \u001b[0mindex\u001b[0m \u001b[1;33m=\u001b[0m \u001b[0mensure_index\u001b[0m\u001b[1;33m(\u001b[0m\u001b[0mindex\u001b[0m\u001b[1;33m)\u001b[0m\u001b[1;33m\u001b[0m\u001b[1;33m\u001b[0m\u001b[0m\n",
      "\u001b[1;32m~\\anaconda3\\lib\\site-packages\\pandas\\core\\internals\\construction.py\u001b[0m in \u001b[0;36mextract_index\u001b[1;34m(data)\u001b[0m\n\u001b[0;32m    399\u001b[0m             \u001b[0mlengths\u001b[0m \u001b[1;33m=\u001b[0m \u001b[0mlist\u001b[0m\u001b[1;33m(\u001b[0m\u001b[0mset\u001b[0m\u001b[1;33m(\u001b[0m\u001b[0mraw_lengths\u001b[0m\u001b[1;33m)\u001b[0m\u001b[1;33m)\u001b[0m\u001b[1;33m\u001b[0m\u001b[1;33m\u001b[0m\u001b[0m\n\u001b[0;32m    400\u001b[0m             \u001b[1;32mif\u001b[0m \u001b[0mlen\u001b[0m\u001b[1;33m(\u001b[0m\u001b[0mlengths\u001b[0m\u001b[1;33m)\u001b[0m \u001b[1;33m>\u001b[0m \u001b[1;36m1\u001b[0m\u001b[1;33m:\u001b[0m\u001b[1;33m\u001b[0m\u001b[1;33m\u001b[0m\u001b[0m\n\u001b[1;32m--> 401\u001b[1;33m                 \u001b[1;32mraise\u001b[0m \u001b[0mValueError\u001b[0m\u001b[1;33m(\u001b[0m\u001b[1;34m\"arrays must all be same length\"\u001b[0m\u001b[1;33m)\u001b[0m\u001b[1;33m\u001b[0m\u001b[1;33m\u001b[0m\u001b[0m\n\u001b[0m\u001b[0;32m    402\u001b[0m \u001b[1;33m\u001b[0m\u001b[0m\n\u001b[0;32m    403\u001b[0m             \u001b[1;32mif\u001b[0m \u001b[0mhave_dicts\u001b[0m\u001b[1;33m:\u001b[0m\u001b[1;33m\u001b[0m\u001b[1;33m\u001b[0m\u001b[0m\n",
      "\u001b[1;31mValueError\u001b[0m: arrays must all be same length"
     ]
    }
   ],
   "source": [
    "dataframe = pd.DataFrame.from_dict(dictionnaire)"
   ]
  },
  {
   "cell_type": "code",
   "execution_count": 21,
   "id": "2ad0f80d",
   "metadata": {},
   "outputs": [
    {
     "ename": "NameError",
     "evalue": "name 'dataframe' is not defined",
     "output_type": "error",
     "traceback": [
      "\u001b[1;31m---------------------------------------------------------------------------\u001b[0m",
      "\u001b[1;31mNameError\u001b[0m                                 Traceback (most recent call last)",
      "\u001b[1;32m<ipython-input-21-93498b4b2d50>\u001b[0m in \u001b[0;36m<module>\u001b[1;34m\u001b[0m\n\u001b[1;32m----> 1\u001b[1;33m \u001b[0mdataframe\u001b[0m\u001b[1;33m.\u001b[0m\u001b[0mhead\u001b[0m\u001b[1;33m(\u001b[0m\u001b[1;33m)\u001b[0m\u001b[1;33m\u001b[0m\u001b[1;33m\u001b[0m\u001b[0m\n\u001b[0m",
      "\u001b[1;31mNameError\u001b[0m: name 'dataframe' is not defined"
     ]
    }
   ],
   "source": [
    "dataframe.head()"
   ]
  },
  {
   "cell_type": "code",
   "execution_count": 22,
   "id": "263c3d8f",
   "metadata": {},
   "outputs": [
    {
     "ename": "NameError",
     "evalue": "name 'dataframe' is not defined",
     "output_type": "error",
     "traceback": [
      "\u001b[1;31m---------------------------------------------------------------------------\u001b[0m",
      "\u001b[1;31mNameError\u001b[0m                                 Traceback (most recent call last)",
      "\u001b[1;32m<ipython-input-22-ce19bf65a32d>\u001b[0m in \u001b[0;36m<module>\u001b[1;34m\u001b[0m\n\u001b[1;32m----> 1\u001b[1;33m \u001b[0mdataframe\u001b[0m\u001b[1;33m.\u001b[0m\u001b[0mdescribe\u001b[0m\u001b[1;33m(\u001b[0m\u001b[1;33m)\u001b[0m\u001b[1;33m\u001b[0m\u001b[1;33m\u001b[0m\u001b[0m\n\u001b[0m",
      "\u001b[1;31mNameError\u001b[0m: name 'dataframe' is not defined"
     ]
    }
   ],
   "source": [
    "dataframe.describe()"
   ]
  },
  {
   "cell_type": "code",
   "execution_count": null,
   "id": "465528b2",
   "metadata": {},
   "outputs": [],
   "source": [
    "dataframe[\"old-price\"].max()"
   ]
  },
  {
   "cell_type": "code",
   "execution_count": null,
   "id": "906c8838",
   "metadata": {},
   "outputs": [],
   "source": [
    "dataframe[\"old-price\"].min()"
   ]
  },
  {
   "cell_type": "code",
   "execution_count": null,
   "id": "1f10463e",
   "metadata": {},
   "outputs": [],
   "source": [
    "dataframe[\"newpricecol\"] = pd.Series(new_prix)"
   ]
  },
  {
   "cell_type": "code",
   "execution_count": null,
   "id": "250f061a",
   "metadata": {},
   "outputs": [],
   "source": [
    "dataframe[\"newpricecol\"] = pd.Series(new_prix)"
   ]
  },
  {
   "cell_type": "code",
   "execution_count": null,
   "id": "21202df4",
   "metadata": {},
   "outputs": [],
   "source": [
    "# creation d'un dictionnaire \n",
    "dictionnaire_2 = {\"nom_chemise\":marque_chemise_name, \"description\":marque_chemise_description, \"old-price\":new_prix, \"new_price\":}"
   ]
  },
  {
   "cell_type": "code",
   "execution_count": null,
   "id": "5bb14588",
   "metadata": {},
   "outputs": [],
   "source": []
  },
  {
   "cell_type": "code",
   "execution_count": null,
   "id": "c10735e6",
   "metadata": {},
   "outputs": [],
   "source": [
    "dataframe"
   ]
  },
  {
   "cell_type": "code",
   "execution_count": null,
   "id": "62dc2608",
   "metadata": {},
   "outputs": [],
   "source": [
    "dataframe.to_csv('out.csv')"
   ]
  },
  {
   "cell_type": "code",
   "execution_count": null,
   "id": "72d81061",
   "metadata": {},
   "outputs": [],
   "source": [
    "len(browser.find_elements_by_xpath('/html/body/div[4]/div/div/div/div[7]/div/div[2]/div[2]/div[2]/div'))\n",
    "#/html/body/div[4]/div/div/div/div[7]/div/div[2]/div[2]/div[2]/div[3]/div[2]/article/div[4]/a/header"
   ]
  },
  {
   "cell_type": "code",
   "execution_count": null,
   "id": "11df2ba8",
   "metadata": {},
   "outputs": [],
   "source": [
    "dataframe"
   ]
  },
  {
   "cell_type": "code",
   "execution_count": null,
   "id": "8f4345d3",
   "metadata": {},
   "outputs": [],
   "source": [
    "ddf = dataframe.set_index('nom_chemise')\n",
    "ddf"
   ]
  },
  {
   "cell_type": "markdown",
   "id": "c5f0e139",
   "metadata": {},
   "source": [
    "CONVERSION DE LA DATA FRAME EN JSON"
   ]
  },
  {
   "cell_type": "code",
   "execution_count": null,
   "id": "679a21b4",
   "metadata": {},
   "outputs": [],
   "source": [
    "data"
   ]
  },
  {
   "cell_type": "code",
   "execution_count": null,
   "id": "21923e69",
   "metadata": {},
   "outputs": [],
   "source": [
    "data = dataframe.to_json(orient='index')\n",
    "pprint(data)"
   ]
  },
  {
   "cell_type": "code",
   "execution_count": null,
   "id": "dd7fb14d",
   "metadata": {},
   "outputs": [],
   "source": []
  },
  {
   "cell_type": "code",
   "execution_count": null,
   "id": "a19b8a44",
   "metadata": {},
   "outputs": [],
   "source": [
    "dataframe.to_dict(orient=\"records\")"
   ]
  },
  {
   "cell_type": "code",
   "execution_count": null,
   "id": "16bf1d71",
   "metadata": {},
   "outputs": [],
   "source": [
    "dictionnaire_data = dataframe.to_dict(orient=\"records\")\n",
    "dictionnaire_data"
   ]
  },
  {
   "cell_type": "code",
   "execution_count": null,
   "id": "3de69da6",
   "metadata": {},
   "outputs": [],
   "source": [
    "# CONVERTIR LE DICTIONNAIRE EN JSON POUR EN CREE UNE BASE MONGO DB\n",
    "json_data = json.dumps(dictionnaire_data, indent = 4) \n",
    "print(json_data)"
   ]
  },
  {
   "cell_type": "code",
   "execution_count": null,
   "id": "0230cd4d",
   "metadata": {},
   "outputs": [],
   "source": [
    "# Ecrire dans le fichier json \n",
    "f = open(\"api.json\", \"a\")\n",
    "f.write(\"Now the file has more content!\")\n",
    "f.close()"
   ]
  },
  {
   "cell_type": "code",
   "execution_count": null,
   "id": "f2ea4dc8",
   "metadata": {},
   "outputs": [],
   "source": [
    "# INTEGRER LE JSON"
   ]
  },
  {
   "cell_type": "markdown",
   "id": "a9e32877",
   "metadata": {},
   "source": [
    "# API\n",
    "une api avec plusieurs routes capable d’interagir avec une bdd de votre choix les actions possibles via ses routes devront être ◦Créer une nouvelle entrée\n",
    "◦Modifier une entrée existante\n",
    "◦Supprimer une entrée existante \n",
    "◦Mettre à jour une donnée existante"
   ]
  },
  {
   "cell_type": "code",
   "execution_count": null,
   "id": "2ace254a",
   "metadata": {},
   "outputs": [],
   "source": [
    "import os   \n",
    "cwd = os.getcwd()\n",
    "# print(cwd)\n",
    "\n",
    "dataframe.to_json(r'C:\\Users\\bodje\\Python B3\\Scrapping\\datas.json')"
   ]
  },
  {
   "cell_type": "markdown",
   "id": "d368295f",
   "metadata": {},
   "source": [
    "ON VA FAIRE L'API et ses endpoints avec Flask API"
   ]
  },
  {
   "cell_type": "code",
   "execution_count": null,
   "id": "f2506abf",
   "metadata": {},
   "outputs": [],
   "source": [
    "from flask import Flask, render_template, request, redirect, url_for, flash, send_from_directory, jsonify, send_file, safe_join, make_response"
   ]
  },
  {
   "cell_type": "code",
   "execution_count": null,
   "id": "c8127cd2",
   "metadata": {},
   "outputs": [],
   "source": [
    "app = Flask(__name__)\n",
    "app.config[\"DEBUG\"] = True\n",
    "app.secret_key = b'_5#y2L\"F4Q8z\\n\\xec]/'"
   ]
  },
  {
   "cell_type": "code",
   "execution_count": null,
   "id": "5df60d54",
   "metadata": {},
   "outputs": [],
   "source": []
  },
  {
   "cell_type": "code",
   "execution_count": null,
   "id": "09c3ea8c",
   "metadata": {},
   "outputs": [],
   "source": []
  },
  {
   "cell_type": "code",
   "execution_count": null,
   "id": "93a2cae5",
   "metadata": {},
   "outputs": [],
   "source": []
  },
  {
   "cell_type": "code",
   "execution_count": null,
   "id": "45c3fa5e",
   "metadata": {},
   "outputs": [],
   "source": []
  },
  {
   "cell_type": "code",
   "execution_count": null,
   "id": "8ede9748",
   "metadata": {},
   "outputs": [],
   "source": []
  },
  {
   "cell_type": "code",
   "execution_count": null,
   "id": "67bbacb4",
   "metadata": {},
   "outputs": [],
   "source": []
  },
  {
   "cell_type": "code",
   "execution_count": null,
   "id": "af996099",
   "metadata": {},
   "outputs": [],
   "source": []
  }
 ],
 "metadata": {
  "kernelspec": {
   "display_name": "Python 3",
   "language": "python",
   "name": "python3"
  },
  "language_info": {
   "codemirror_mode": {
    "name": "ipython",
    "version": 3
   },
   "file_extension": ".py",
   "mimetype": "text/x-python",
   "name": "python",
   "nbconvert_exporter": "python",
   "pygments_lexer": "ipython3",
   "version": "3.8.8"
  }
 },
 "nbformat": 4,
 "nbformat_minor": 5
}
